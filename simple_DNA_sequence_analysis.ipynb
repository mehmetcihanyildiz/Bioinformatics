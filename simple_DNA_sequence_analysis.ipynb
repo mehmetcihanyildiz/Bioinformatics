{
  "nbformat": 4,
  "nbformat_minor": 0,
  "metadata": {
    "colab": {
      "provenance": [],
      "authorship_tag": "ABX9TyNp2DY7Ez+lvBzcaQQP3ocC",
      "include_colab_link": true
    },
    "kernelspec": {
      "name": "python3",
      "display_name": "Python 3"
    },
    "language_info": {
      "name": "python"
    }
  },
  "cells": [
    {
      "cell_type": "markdown",
      "metadata": {
        "id": "view-in-github",
        "colab_type": "text"
      },
      "source": [
        "<a href=\"https://colab.research.google.com/github/mehmetcihanyildiz/Bioinformatics/blob/main/simple_DNA_sequence_analysis.ipynb\" target=\"_parent\"><img src=\"https://colab.research.google.com/assets/colab-badge.svg\" alt=\"Open In Colab\"/></a>"
      ]
    },
    {
      "cell_type": "markdown",
      "source": [
        "# **Importing necessary libraries**"
      ],
      "metadata": {
        "id": "dKlwMp-xecHw"
      }
    },
    {
      "cell_type": "code",
      "source": [
        "import numpy as np\n",
        "import pandas as pd\n",
        "import matplotlib.pyplot as plt\n",
        "import seaborn as sns\n",
        "import os\n",
        "import random"
      ],
      "metadata": {
        "id": "jt4ACnz2HvRR"
      },
      "execution_count": 5,
      "outputs": []
    },
    {
      "cell_type": "code",
      "source": [
        "from Bio import SeqIO\n",
        "from Bio.SeqRecord import SeqRecord\n",
        "from Bio import pairwise2"
      ],
      "metadata": {
        "id": "VBN0t47VH8Ae"
      },
      "execution_count": null,
      "outputs": []
    },
    {
      "cell_type": "markdown",
      "source": [
        "# **Loading fasta files**"
      ],
      "metadata": {
        "id": "Skp5asnWejqg"
      }
    },
    {
      "cell_type": "code",
      "source": [
        "for seq_record in SeqIO.parse('cov2.fasta',\"fasta\"):\n",
        "  cov = seq_record.seq"
      ],
      "metadata": {
        "id": "uoYhLcodIdYv"
      },
      "execution_count": 11,
      "outputs": []
    },
    {
      "cell_type": "code",
      "source": [
        "for seq_record in SeqIO.parse('sars.fasta',\"fasta\"):\n",
        "  sars = seq_record.seq"
      ],
      "metadata": {
        "id": "SDD8vDGnIzrK"
      },
      "execution_count": 12,
      "outputs": []
    },
    {
      "cell_type": "code",
      "source": [
        "for seq_record in SeqIO.parse('mers.fasta',\"fasta\"):\n",
        "  mers = seq_record.seq"
      ],
      "metadata": {
        "id": "ykKoliYJI4S2"
      },
      "execution_count": 13,
      "outputs": []
    },
    {
      "cell_type": "markdown",
      "source": [
        "# **Sequences of Sars, Cov and Mers**"
      ],
      "metadata": {
        "id": "OeBMGIS-fBay"
      }
    },
    {
      "cell_type": "code",
      "source": [
        "sars"
      ],
      "metadata": {
        "colab": {
          "base_uri": "https://localhost:8080/"
        },
        "id": "p7M72rNFLeJv",
        "outputId": "b7b8c698-1fb2-4425-e21c-8eccdcddb081"
      },
      "execution_count": 24,
      "outputs": [
        {
          "output_type": "execute_result",
          "data": {
            "text/plain": [
              "Seq('ATATTAGGTTTTTACCTACCCAGGAAAAGCCAACCAACCTCGATCTCTTGTAGA...AAA')"
            ]
          },
          "metadata": {},
          "execution_count": 24
        }
      ]
    },
    {
      "cell_type": "code",
      "source": [
        "cov"
      ],
      "metadata": {
        "colab": {
          "base_uri": "https://localhost:8080/"
        },
        "id": "c4y99NUYLgpV",
        "outputId": "78e5b661-a9c7-46ed-f143-56d00397f176"
      },
      "execution_count": 25,
      "outputs": [
        {
          "output_type": "execute_result",
          "data": {
            "text/plain": [
              "Seq('ATTAAAGGTTTATACCTTCCCAGGTAACAAACCAACCAACTTTCGATCTCTTGT...AAA')"
            ]
          },
          "metadata": {},
          "execution_count": 25
        }
      ]
    },
    {
      "cell_type": "code",
      "source": [
        "mers"
      ],
      "metadata": {
        "colab": {
          "base_uri": "https://localhost:8080/"
        },
        "id": "P9OZawSdLh1j",
        "outputId": "651a9070-6a8b-4ae2-8fde-0701989b90f8"
      },
      "execution_count": 26,
      "outputs": [
        {
          "output_type": "execute_result",
          "data": {
            "text/plain": [
              "Seq('GATTTAAGTGAATAGCTTGGCTATCTCACTTCCCCTCGTTCTCTTGCAGAACTT...AAA')"
            ]
          },
          "metadata": {},
          "execution_count": 26
        }
      ]
    },
    {
      "cell_type": "markdown",
      "source": [
        "# **Number of Nucleotides in Sequences**"
      ],
      "metadata": {
        "id": "FU1Grw47fSeL"
      }
    },
    {
      "cell_type": "code",
      "source": [
        "print(\"Number of nucleotides in Cov: \",len(cov))\n",
        "print(\"Number of nucleotides in Sars: \",len(sars))\n",
        "print(\"Number of nucleotides in Mers: \",len(mers))"
      ],
      "metadata": {
        "colab": {
          "base_uri": "https://localhost:8080/"
        },
        "id": "tXNXJr34Li44",
        "outputId": "4587d29a-7c7d-4367-c598-d7eb1a811fd3"
      },
      "execution_count": 31,
      "outputs": [
        {
          "output_type": "stream",
          "name": "stdout",
          "text": [
            "Number of nucleotides in Cov:  29903\n",
            "Number of nucleotides in Sars:  29751\n",
            "Number of nucleotides in Mers:  30119\n"
          ]
        }
      ]
    },
    {
      "cell_type": "markdown",
      "source": [
        "# **Finding Nucleotide Composition**"
      ],
      "metadata": {
        "id": "-GbMnPMafc3l"
      }
    },
    {
      "cell_type": "code",
      "source": [
        "def nucleotides_composition(seq):\n",
        "    nucleotides = {'A': 0, 'C': 0, 'G': 0, 'T': 0}\n",
        "    for n in nucleotides:\n",
        "        nucleotides[n] = seq.count(n)/len(seq)*100\n",
        "    return nucleotides"
      ],
      "metadata": {
        "id": "bfOOEXwxMPDJ"
      },
      "execution_count": 32,
      "outputs": []
    },
    {
      "cell_type": "code",
      "source": [
        "cov_comp = nucleotides_composition(cov)\n",
        "cov_comp"
      ],
      "metadata": {
        "colab": {
          "base_uri": "https://localhost:8080/"
        },
        "id": "SumpERKCMWHB",
        "outputId": "88bb24b1-5bcb-4315-fa3e-2f5527e6f77d"
      },
      "execution_count": 34,
      "outputs": [
        {
          "output_type": "execute_result",
          "data": {
            "text/plain": [
              "{'A': 29.943483931378122,\n",
              " 'C': 18.366050229074006,\n",
              " 'G': 19.60672842189747,\n",
              " 'T': 32.083737417650404}"
            ]
          },
          "metadata": {},
          "execution_count": 34
        }
      ]
    },
    {
      "cell_type": "code",
      "source": [
        "sars_comp = nucleotides_composition(sars)\n",
        "sars_comp"
      ],
      "metadata": {
        "colab": {
          "base_uri": "https://localhost:8080/"
        },
        "id": "a_LZc94yMfq7",
        "outputId": "509cfc95-3b42-490e-bb17-62c3002377f9"
      },
      "execution_count": 35,
      "outputs": [
        {
          "output_type": "execute_result",
          "data": {
            "text/plain": [
              "{'A': 28.50660482000605,\n",
              " 'C': 19.965715438136534,\n",
              " 'G': 20.795939632281268,\n",
              " 'T': 30.73174010957615}"
            ]
          },
          "metadata": {},
          "execution_count": 35
        }
      ]
    },
    {
      "cell_type": "code",
      "source": [
        "mers_comp = nucleotides_composition(mers)\n",
        "mers_comp"
      ],
      "metadata": {
        "colab": {
          "base_uri": "https://localhost:8080/"
        },
        "id": "cQUEDqpDMkbn",
        "outputId": "d94d93a4-8f87-459c-f301-5d43a29f7db1"
      },
      "execution_count": 36,
      "outputs": [
        {
          "output_type": "execute_result",
          "data": {
            "text/plain": [
              "{'A': 26.22929048109167,\n",
              " 'C': 20.306119061057803,\n",
              " 'G': 20.930309771240747,\n",
              " 'T': 32.534280686609776}"
            ]
          },
          "metadata": {},
          "execution_count": 36
        }
      ]
    },
    {
      "cell_type": "markdown",
      "source": [
        "# **Converting dict to dataframe**"
      ],
      "metadata": {
        "id": "KRibME1dfpW6"
      }
    },
    {
      "cell_type": "code",
      "source": [
        "cov_df = pd.DataFrame.from_dict(cov_comp, orient='index')\n",
        "cov_df = cov_df.reset_index()\n",
        "cov_df = cov_df.rename(columns={\"index\": \"Nucleotides\", 0:\"Composition\"})\n"
      ],
      "metadata": {
        "id": "3jOb11zVM8TB"
      },
      "execution_count": 54,
      "outputs": []
    },
    {
      "cell_type": "code",
      "source": [
        "sars_df = pd.DataFrame.from_dict(sars_comp, orient='index')\n",
        "sars_df = sars_df.reset_index()\n",
        "sars_df = sars_df.rename(columns={\"index\": \"Nucleotides\", 0:\"Composition\"})"
      ],
      "metadata": {
        "id": "lbSKQXDVOWq0"
      },
      "execution_count": 56,
      "outputs": []
    },
    {
      "cell_type": "code",
      "source": [
        "mers_df = pd.DataFrame.from_dict(mers_comp, orient='index')\n",
        "mers_df = mers_df.reset_index()\n",
        "mers_df = mers_df.rename(columns={\"index\": \"Nucleotides\", 0:\"Composition\"})"
      ],
      "metadata": {
        "id": "iqc-vv9gOfxP"
      },
      "execution_count": 57,
      "outputs": []
    },
    {
      "cell_type": "markdown",
      "source": [
        "# **Barplot of Compositions**"
      ],
      "metadata": {
        "id": "SgOifCRff2Lj"
      }
    },
    {
      "cell_type": "code",
      "source": [
        "sns.barplot(x=\"Nucleotides\",y=\"Composition\",data=cov_df).set(title='Covid Nucleotide Composition')\n",
        "plt.show()\n",
        "sns.barplot(x=\"Nucleotides\",y=\"Composition\",data=sars_df).set(title='Sars Nucleotide Composition')\n",
        "plt.show()\n",
        "sns.barplot(x=\"Nucleotides\",y=\"Composition\",data=mers_df).set(title='Mers Nucleotide Composition')\n",
        "plt.show()"
      ],
      "metadata": {
        "colab": {
          "base_uri": "https://localhost:8080/",
          "height": 851
        },
        "id": "ax3EiljPMp8A",
        "outputId": "c44eadd1-0b29-44f3-e7aa-eca8dd8d3ebf"
      },
      "execution_count": 61,
      "outputs": [
        {
          "output_type": "display_data",
          "data": {
            "text/plain": [
              "<Figure size 432x288 with 1 Axes>"
            ],
            "image/png": "[encoded data removed]"
          },
          "metadata": {
            "needs_background": "light"
          }
        },
        {
          "output_type": "display_data",
          "data": {
            "text/plain": [
              "<Figure size 432x288 with 1 Axes>"
            ],
            "image/png": "[encoded data removed]"
          },
          "metadata": {
            "needs_background": "light"
          }
        },
        {
          "output_type": "display_data",
          "data": {
            "text/plain": [
              "<Figure size 432x288 with 1 Axes>"
            ],
            "image/png": "[encoded data removed]"
          },
          "metadata": {
            "needs_background": "light"
          }
        }
      ]
    },
    {
      "cell_type": "markdown",
      "source": [
        "# **Importing module for finding GC Content of Sequences**"
      ],
      "metadata": {
        "id": "bCCjBzx1f9e3"
      }
    },
    {
      "cell_type": "code",
      "source": [
        "from Bio.SeqUtils import GC"
      ],
      "metadata": {
        "id": "Ceqo4N2ocLBD"
      },
      "execution_count": 64,
      "outputs": []
    },
    {
      "cell_type": "markdown",
      "source": [
        "# **GC Contents of Sequences**"
      ],
      "metadata": {
        "id": "tAuULkFJgGUm"
      }
    },
    {
      "cell_type": "code",
      "source": [
        "print(f\" Covid GC% : {GC(cov)}\")\n",
        "print(f\" Sars GC% : {GC(sars)}\")\n",
        "print(f\" Mers GC% : {GC(mers)}\")"
      ],
      "metadata": {
        "colab": {
          "base_uri": "https://localhost:8080/"
        },
        "id": "jTsCzdNYby-W",
        "outputId": "a7417d14-68f1-4424-aea3-e4ab8638d3cf"
      },
      "execution_count": 68,
      "outputs": [
        {
          "output_type": "stream",
          "name": "stdout",
          "text": [
            " Covid GC% : 37.97277865097148\n",
            " Sars GC% : 40.7616550704178\n",
            " Mers GC% : 41.23642883229855\n"
          ]
        }
      ]
    },
    {
      "cell_type": "markdown",
      "source": [
        "# **Determining Trimers**"
      ],
      "metadata": {
        "id": "yRkAyLiXgRFc"
      }
    },
    {
      "cell_type": "code",
      "source": [
        "trimers = [\"AAA\", \"AAC\", \"AAG\", \"AAT\", \"ACA\", \"ACC\", \"ACG\", \"ACT\", \"AGA\", \"AGC\", \"AGG\", \"ATA\", \"ATC\", \"ATG\", \"CAA\", \n",
        "           \"CAC\", \"CAG\", \"CCA\",\"CCC\",\"CCG\",\"CGA\",\"CGC\",\"CTA\",\"CTC\",\"GAA\",\"GAC\",\"GCA\",\"GCC\",\"GGA\",\"GTA\",\"TAA\",\"TCA\"]"
      ],
      "metadata": {
        "id": "o5oW7mt3cimi"
      },
      "execution_count": 69,
      "outputs": []
    },
    {
      "cell_type": "markdown",
      "source": [
        "# **Simple Function to See Numbers of Trimers in Sequence**"
      ],
      "metadata": {
        "id": "4UQ2NQgUgghf"
      }
    },
    {
      "cell_type": "code",
      "source": [
        "def trimer_composition(genome):\n",
        "    trimer_dict = dict()\n",
        "    for trimer in trimers:\n",
        "        trimer_dict[trimer] = genome.count(trimer)\n",
        "    return trimer_dict"
      ],
      "metadata": {
        "id": "Zs570XaRdRay"
      },
      "execution_count": 70,
      "outputs": []
    },
    {
      "cell_type": "code",
      "source": [
        "tri_comp = trimer_composition(cov)\n",
        "tri_comp"
      ],
      "metadata": {
        "colab": {
          "base_uri": "https://localhost:8080/"
        },
        "id": "k0wGlFzEdTwc",
        "outputId": "6a90c1df-cfeb-44da-a24b-363956f9b167"
      },
      "execution_count": 73,
      "outputs": [
        {
          "output_type": "execute_result",
          "data": {
            "text/plain": [
              "{'AAA': 654,\n",
              " 'AAC': 615,\n",
              " 'AAG': 580,\n",
              " 'AAT': 761,\n",
              " 'ACA': 755,\n",
              " 'ACC': 376,\n",
              " 'ACG': 164,\n",
              " 'ACT': 674,\n",
              " 'AGA': 570,\n",
              " 'AGC': 301,\n",
              " 'AGG': 329,\n",
              " 'ATA': 448,\n",
              " 'ATC': 339,\n",
              " 'ATG': 725,\n",
              " 'CAA': 703,\n",
              " 'CAC': 426,\n",
              " 'CAG': 438,\n",
              " 'CCA': 354,\n",
              " 'CCC': 102,\n",
              " 'CCG': 74,\n",
              " 'CGA': 95,\n",
              " 'CGC': 94,\n",
              " 'CTA': 561,\n",
              " 'CTC': 269,\n",
              " 'GAA': 535,\n",
              " 'GAC': 340,\n",
              " 'GCA': 372,\n",
              " 'GCC': 187,\n",
              " 'GGA': 282,\n",
              " 'GTA': 469,\n",
              " 'TAA': 719,\n",
              " 'TCA': 549}"
            ]
          },
          "metadata": {},
          "execution_count": 73
        }
      ]
    },
    {
      "cell_type": "markdown",
      "source": [
        "# **Converting dict to dataframe**"
      ],
      "metadata": {
        "id": "w8opRVqngvpP"
      }
    },
    {
      "cell_type": "code",
      "source": [
        "tri = pd.DataFrame.from_dict(tri_comp, orient ='index')\n",
        "tri = tri.reset_index()\n",
        "tri = tri.rename(columns={\"index\": \"trimer\", 0: \"count\"})"
      ],
      "metadata": {
        "id": "_P5m-oSkdjPl"
      },
      "execution_count": 74,
      "outputs": []
    },
    {
      "cell_type": "markdown",
      "source": [
        "# **Plot of Numbers of Trimers**"
      ],
      "metadata": {
        "id": "gMcBeKZ0g1cG"
      }
    },
    {
      "cell_type": "code",
      "source": [
        "r1 = tri.sort_values(by='count', ascending=False)\n",
        "r1.style.bar(subset=[\"count\"],color='#').background_gradient(cmap='Reds')"
      ],
      "metadata": {
        "colab": {
          "base_uri": "https://localhost:8080/",
          "height": 1000
        },
        "id": "wj4GRQ1Kdrg1",
        "outputId": "bce4dac9-5aaa-4c5d-beca-d22b1082482b"
      },
      "execution_count": 75,
      "outputs": [
        {
          "output_type": "execute_result",
          "data": {
            "text/plain": [
              "<pandas.io.formats.style.Styler at 0x7fdd9bd9e8b0>"
            ],
            "text/html": [
              "<style type=\"text/css\">\n",
              "#T_c2dc0_row0_col1 {\n",
              "  width: 10em;\n",
              "  background: linear-gradient(90deg, # 100.0%, transparent 100.0%);\n",
              "  background-color: #67000d;\n",
              "  color: #f1f1f1;\n",
              "}\n",
              "#T_c2dc0_row1_col1 {\n",
              "  width: 10em;\n",
              "  background: linear-gradient(90deg, # 99.2%, transparent 99.2%);\n",
              "  background-color: #6b010e;\n",
              "  color: #f1f1f1;\n",
              "}\n",
              "#T_c2dc0_row2_col1 {\n",
              "  width: 10em;\n",
              "  background: linear-gradient(90deg, # 95.3%, transparent 95.3%);\n",
              "  background-color: #800610;\n",
              "  color: #f1f1f1;\n",
              "}\n",
              "#T_c2dc0_row3_col1 {\n",
              "  width: 10em;\n",
              "  background: linear-gradient(90deg, # 94.5%, transparent 94.5%);\n",
              "  background-color: #840711;\n",
              "  color: #f1f1f1;\n",
              "}\n",
              "#T_c2dc0_row4_col1 {\n",
              "  width: 10em;\n",
              "  background: linear-gradient(90deg, # 92.4%, transparent 92.4%);\n",
              "  background-color: #900a12;\n",
              "  color: #f1f1f1;\n",
              "}\n",
              "#T_c2dc0_row5_col1 {\n",
              "  width: 10em;\n",
              "  background: linear-gradient(90deg, # 88.6%, transparent 88.6%);\n",
              "  background-color: #a50f15;\n",
              "  color: #f1f1f1;\n",
              "}\n",
              "#T_c2dc0_row6_col1 {\n",
              "  width: 10em;\n",
              "  background: linear-gradient(90deg, # 85.9%, transparent 85.9%);\n",
              "  background-color: #ad1117;\n",
              "  color: #f1f1f1;\n",
              "}\n",
              "#T_c2dc0_row7_col1 {\n",
              "  width: 10em;\n",
              "  background: linear-gradient(90deg, # 80.8%, transparent 80.8%);\n",
              "  background-color: #bf151b;\n",
              "  color: #f1f1f1;\n",
              "}\n",
              "#T_c2dc0_row8_col1 {\n",
              "  width: 10em;\n",
              "  background: linear-gradient(90deg, # 76.2%, transparent 76.2%);\n",
              "  background-color: #cf1c1f;\n",
              "  color: #f1f1f1;\n",
              "}\n",
              "#T_c2dc0_row9_col1 {\n",
              "  width: 10em;\n",
              "  background: linear-gradient(90deg, # 74.9%, transparent 74.9%);\n",
              "  background-color: #d32020;\n",
              "  color: #f1f1f1;\n",
              "}\n",
              "#T_c2dc0_row10_col1 {\n",
              "  width: 10em;\n",
              "  background: linear-gradient(90deg, # 73.7%, transparent 73.7%);\n",
              "  background-color: #d72322;\n",
              "  color: #f1f1f1;\n",
              "}\n",
              "#T_c2dc0_row11_col1 {\n",
              "  width: 10em;\n",
              "  background: linear-gradient(90deg, # 72.1%, transparent 72.1%);\n",
              "  background-color: #db2824;\n",
              "  color: #f1f1f1;\n",
              "}\n",
              "#T_c2dc0_row12_col1 {\n",
              "  width: 10em;\n",
              "  background: linear-gradient(90deg, # 70.3%, transparent 70.3%);\n",
              "  background-color: #e22e27;\n",
              "  color: #f1f1f1;\n",
              "}\n",
              "#T_c2dc0_row13_col1 {\n",
              "  width: 10em;\n",
              "  background: linear-gradient(90deg, # 61.6%, transparent 61.6%);\n",
              "  background-color: #f44d38;\n",
              "  color: #f1f1f1;\n",
              "}\n",
              "#T_c2dc0_row14_col1 {\n",
              "  width: 10em;\n",
              "  background: linear-gradient(90deg, # 58.9%, transparent 58.9%);\n",
              "  background-color: #f7593f;\n",
              "  color: #f1f1f1;\n",
              "}\n",
              "#T_c2dc0_row15_col1 {\n",
              "  width: 10em;\n",
              "  background: linear-gradient(90deg, # 57.6%, transparent 57.6%);\n",
              "  background-color: #f85f43;\n",
              "  color: #f1f1f1;\n",
              "}\n",
              "#T_c2dc0_row16_col1 {\n",
              "  width: 10em;\n",
              "  background: linear-gradient(90deg, # 56.0%, transparent 56.0%);\n",
              "  background-color: #fa6547;\n",
              "  color: #f1f1f1;\n",
              "}\n",
              "#T_c2dc0_row17_col1 {\n",
              "  width: 10em;\n",
              "  background: linear-gradient(90deg, # 49.4%, transparent 49.4%);\n",
              "  background-color: #fb7d5d;\n",
              "  color: #f1f1f1;\n",
              "}\n",
              "#T_c2dc0_row18_col1 {\n",
              "  width: 10em;\n",
              "  background: linear-gradient(90deg, # 48.9%, transparent 48.9%);\n",
              "  background-color: #fc7f5f;\n",
              "  color: #f1f1f1;\n",
              "}\n",
              "#T_c2dc0_row19_col1 {\n",
              "  width: 10em;\n",
              "  background: linear-gradient(90deg, # 46.5%, transparent 46.5%);\n",
              "  background-color: #fc8767;\n",
              "  color: #f1f1f1;\n",
              "}\n",
              "#T_c2dc0_row20_col1 {\n",
              "  width: 10em;\n",
              "  background: linear-gradient(90deg, # 44.7%, transparent 44.7%);\n",
              "  background-color: #fc8e6e;\n",
              "  color: #000000;\n",
              "}\n",
              "#T_c2dc0_row21_col1 {\n",
              "  width: 10em;\n",
              "  background: linear-gradient(90deg, # 44.5%, transparent 44.5%);\n",
              "  background-color: #fc8f6f;\n",
              "  color: #000000;\n",
              "}\n",
              "#T_c2dc0_row22_col1 {\n",
              "  width: 10em;\n",
              "  background: linear-gradient(90deg, # 43.2%, transparent 43.2%);\n",
              "  background-color: #fc9373;\n",
              "  color: #000000;\n",
              "}\n",
              "#T_c2dc0_row23_col1 {\n",
              "  width: 10em;\n",
              "  background: linear-gradient(90deg, # 39.6%, transparent 39.6%);\n",
              "  background-color: #fca183;\n",
              "  color: #000000;\n",
              "}\n",
              "#T_c2dc0_row24_col1 {\n",
              "  width: 10em;\n",
              "  background: linear-gradient(90deg, # 37.1%, transparent 37.1%);\n",
              "  background-color: #fcaa8d;\n",
              "  color: #000000;\n",
              "}\n",
              "#T_c2dc0_row25_col1 {\n",
              "  width: 10em;\n",
              "  background: linear-gradient(90deg, # 35.3%, transparent 35.3%);\n",
              "  background-color: #fcb095;\n",
              "  color: #000000;\n",
              "}\n",
              "#T_c2dc0_row26_col1 {\n",
              "  width: 10em;\n",
              "  background: linear-gradient(90deg, # 24.6%, transparent 24.6%);\n",
              "  background-color: #fdd4c2;\n",
              "  color: #000000;\n",
              "}\n",
              "#T_c2dc0_row27_col1 {\n",
              "  width: 10em;\n",
              "  background: linear-gradient(90deg, # 21.6%, transparent 21.6%);\n",
              "  background-color: #fedfd0;\n",
              "  color: #000000;\n",
              "}\n",
              "#T_c2dc0_row28_col1 {\n",
              "  width: 10em;\n",
              "  background: linear-gradient(90deg, # 13.4%, transparent 13.4%);\n",
              "  background-color: #ffeee7;\n",
              "  color: #000000;\n",
              "}\n",
              "#T_c2dc0_row29_col1 {\n",
              "  width: 10em;\n",
              "  background: linear-gradient(90deg, # 12.5%, transparent 12.5%);\n",
              "  background-color: #fff0e9;\n",
              "  color: #000000;\n",
              "}\n",
              "#T_c2dc0_row30_col1 {\n",
              "  width: 10em;\n",
              "  background: linear-gradient(90deg, # 12.4%, transparent 12.4%);\n",
              "  background-color: #fff0e9;\n",
              "  color: #000000;\n",
              "}\n",
              "#T_c2dc0_row31_col1 {\n",
              "  width: 10em;\n",
              "  background: linear-gradient(90deg, # 9.7%, transparent 9.7%);\n",
              "  background-color: #fff5f0;\n",
              "  color: #000000;\n",
              "}\n",
              "</style>\n",
              "<table id=\"T_c2dc0\" class=\"dataframe\">\n",
              "  <thead>\n",
              "    <tr>\n",
              "      <th class=\"blank level0\" >&nbsp;</th>\n",
              "      <th id=\"T_c2dc0_level0_col0\" class=\"col_heading level0 col0\" >trimer</th>\n",
              "      <th id=\"T_c2dc0_level0_col1\" class=\"col_heading level0 col1\" >count</th>\n",
              "    </tr>\n",
              "  </thead>\n",
              "  <tbody>\n",
              "    <tr>\n",
              "      <th id=\"T_c2dc0_level0_row0\" class=\"row_heading level0 row0\" >3</th>\n",
              "      <td id=\"T_c2dc0_row0_col0\" class=\"data row0 col0\" >AAT</td>\n",
              "      <td id=\"T_c2dc0_row0_col1\" class=\"data row0 col1\" >761</td>\n",
              "    </tr>\n",
              "    <tr>\n",
              "      <th id=\"T_c2dc0_level0_row1\" class=\"row_heading level0 row1\" >4</th>\n",
              "      <td id=\"T_c2dc0_row1_col0\" class=\"data row1 col0\" >ACA</td>\n",
              "      <td id=\"T_c2dc0_row1_col1\" class=\"data row1 col1\" >755</td>\n",
              "    </tr>\n",
              "    <tr>\n",
              "      <th id=\"T_c2dc0_level0_row2\" class=\"row_heading level0 row2\" >13</th>\n",
              "      <td id=\"T_c2dc0_row2_col0\" class=\"data row2 col0\" >ATG</td>\n",
              "      <td id=\"T_c2dc0_row2_col1\" class=\"data row2 col1\" >725</td>\n",
              "    </tr>\n",
              "    <tr>\n",
              "      <th id=\"T_c2dc0_level0_row3\" class=\"row_heading level0 row3\" >30</th>\n",
              "      <td id=\"T_c2dc0_row3_col0\" class=\"data row3 col0\" >TAA</td>\n",
              "      <td id=\"T_c2dc0_row3_col1\" class=\"data row3 col1\" >719</td>\n",
              "    </tr>\n",
              "    <tr>\n",
              "      <th id=\"T_c2dc0_level0_row4\" class=\"row_heading level0 row4\" >14</th>\n",
              "      <td id=\"T_c2dc0_row4_col0\" class=\"data row4 col0\" >CAA</td>\n",
              "      <td id=\"T_c2dc0_row4_col1\" class=\"data row4 col1\" >703</td>\n",
              "    </tr>\n",
              "    <tr>\n",
              "      <th id=\"T_c2dc0_level0_row5\" class=\"row_heading level0 row5\" >7</th>\n",
              "      <td id=\"T_c2dc0_row5_col0\" class=\"data row5 col0\" >ACT</td>\n",
              "      <td id=\"T_c2dc0_row5_col1\" class=\"data row5 col1\" >674</td>\n",
              "    </tr>\n",
              "    <tr>\n",
              "      <th id=\"T_c2dc0_level0_row6\" class=\"row_heading level0 row6\" >0</th>\n",
              "      <td id=\"T_c2dc0_row6_col0\" class=\"data row6 col0\" >AAA</td>\n",
              "      <td id=\"T_c2dc0_row6_col1\" class=\"data row6 col1\" >654</td>\n",
              "    </tr>\n",
              "    <tr>\n",
              "      <th id=\"T_c2dc0_level0_row7\" class=\"row_heading level0 row7\" >1</th>\n",
              "      <td id=\"T_c2dc0_row7_col0\" class=\"data row7 col0\" >AAC</td>\n",
              "      <td id=\"T_c2dc0_row7_col1\" class=\"data row7 col1\" >615</td>\n",
              "    </tr>\n",
              "    <tr>\n",
              "      <th id=\"T_c2dc0_level0_row8\" class=\"row_heading level0 row8\" >2</th>\n",
              "      <td id=\"T_c2dc0_row8_col0\" class=\"data row8 col0\" >AAG</td>\n",
              "      <td id=\"T_c2dc0_row8_col1\" class=\"data row8 col1\" >580</td>\n",
              "    </tr>\n",
              "    <tr>\n",
              "      <th id=\"T_c2dc0_level0_row9\" class=\"row_heading level0 row9\" >8</th>\n",
              "      <td id=\"T_c2dc0_row9_col0\" class=\"data row9 col0\" >AGA</td>\n",
              "      <td id=\"T_c2dc0_row9_col1\" class=\"data row9 col1\" >570</td>\n",
              "    </tr>\n",
              "    <tr>\n",
              "      <th id=\"T_c2dc0_level0_row10\" class=\"row_heading level0 row10\" >22</th>\n",
              "      <td id=\"T_c2dc0_row10_col0\" class=\"data row10 col0\" >CTA</td>\n",
              "      <td id=\"T_c2dc0_row10_col1\" class=\"data row10 col1\" >561</td>\n",
              "    </tr>\n",
              "    <tr>\n",
              "      <th id=\"T_c2dc0_level0_row11\" class=\"row_heading level0 row11\" >31</th>\n",
              "      <td id=\"T_c2dc0_row11_col0\" class=\"data row11 col0\" >TCA</td>\n",
              "      <td id=\"T_c2dc0_row11_col1\" class=\"data row11 col1\" >549</td>\n",
              "    </tr>\n",
              "    <tr>\n",
              "      <th id=\"T_c2dc0_level0_row12\" class=\"row_heading level0 row12\" >24</th>\n",
              "      <td id=\"T_c2dc0_row12_col0\" class=\"data row12 col0\" >GAA</td>\n",
              "      <td id=\"T_c2dc0_row12_col1\" class=\"data row12 col1\" >535</td>\n",
              "    </tr>\n",
              "    <tr>\n",
              "      <th id=\"T_c2dc0_level0_row13\" class=\"row_heading level0 row13\" >29</th>\n",
              "      <td id=\"T_c2dc0_row13_col0\" class=\"data row13 col0\" >GTA</td>\n",
              "      <td id=\"T_c2dc0_row13_col1\" class=\"data row13 col1\" >469</td>\n",
              "    </tr>\n",
              "    <tr>\n",
              "      <th id=\"T_c2dc0_level0_row14\" class=\"row_heading level0 row14\" >11</th>\n",
              "      <td id=\"T_c2dc0_row14_col0\" class=\"data row14 col0\" >ATA</td>\n",
              "      <td id=\"T_c2dc0_row14_col1\" class=\"data row14 col1\" >448</td>\n",
              "    </tr>\n",
              "    <tr>\n",
              "      <th id=\"T_c2dc0_level0_row15\" class=\"row_heading level0 row15\" >16</th>\n",
              "      <td id=\"T_c2dc0_row15_col0\" class=\"data row15 col0\" >CAG</td>\n",
              "      <td id=\"T_c2dc0_row15_col1\" class=\"data row15 col1\" >438</td>\n",
              "    </tr>\n",
              "    <tr>\n",
              "      <th id=\"T_c2dc0_level0_row16\" class=\"row_heading level0 row16\" >15</th>\n",
              "      <td id=\"T_c2dc0_row16_col0\" class=\"data row16 col0\" >CAC</td>\n",
              "      <td id=\"T_c2dc0_row16_col1\" class=\"data row16 col1\" >426</td>\n",
              "    </tr>\n",
              "    <tr>\n",
              "      <th id=\"T_c2dc0_level0_row17\" class=\"row_heading level0 row17\" >5</th>\n",
              "      <td id=\"T_c2dc0_row17_col0\" class=\"data row17 col0\" >ACC</td>\n",
              "      <td id=\"T_c2dc0_row17_col1\" class=\"data row17 col1\" >376</td>\n",
              "    </tr>\n",
              "    <tr>\n",
              "      <th id=\"T_c2dc0_level0_row18\" class=\"row_heading level0 row18\" >26</th>\n",
              "      <td id=\"T_c2dc0_row18_col0\" class=\"data row18 col0\" >GCA</td>\n",
              "      <td id=\"T_c2dc0_row18_col1\" class=\"data row18 col1\" >372</td>\n",
              "    </tr>\n",
              "    <tr>\n",
              "      <th id=\"T_c2dc0_level0_row19\" class=\"row_heading level0 row19\" >17</th>\n",
              "      <td id=\"T_c2dc0_row19_col0\" class=\"data row19 col0\" >CCA</td>\n",
              "      <td id=\"T_c2dc0_row19_col1\" class=\"data row19 col1\" >354</td>\n",
              "    </tr>\n",
              "    <tr>\n",
              "      <th id=\"T_c2dc0_level0_row20\" class=\"row_heading level0 row20\" >25</th>\n",
              "      <td id=\"T_c2dc0_row20_col0\" class=\"data row20 col0\" >GAC</td>\n",
              "      <td id=\"T_c2dc0_row20_col1\" class=\"data row20 col1\" >340</td>\n",
              "    </tr>\n",
              "    <tr>\n",
              "      <th id=\"T_c2dc0_level0_row21\" class=\"row_heading level0 row21\" >12</th>\n",
              "      <td id=\"T_c2dc0_row21_col0\" class=\"data row21 col0\" >ATC</td>\n",
              "      <td id=\"T_c2dc0_row21_col1\" class=\"data row21 col1\" >339</td>\n",
              "    </tr>\n",
              "    <tr>\n",
              "      <th id=\"T_c2dc0_level0_row22\" class=\"row_heading level0 row22\" >10</th>\n",
              "      <td id=\"T_c2dc0_row22_col0\" class=\"data row22 col0\" >AGG</td>\n",
              "      <td id=\"T_c2dc0_row22_col1\" class=\"data row22 col1\" >329</td>\n",
              "    </tr>\n",
              "    <tr>\n",
              "      <th id=\"T_c2dc0_level0_row23\" class=\"row_heading level0 row23\" >9</th>\n",
              "      <td id=\"T_c2dc0_row23_col0\" class=\"data row23 col0\" >AGC</td>\n",
              "      <td id=\"T_c2dc0_row23_col1\" class=\"data row23 col1\" >301</td>\n",
              "    </tr>\n",
              "    <tr>\n",
              "      <th id=\"T_c2dc0_level0_row24\" class=\"row_heading level0 row24\" >28</th>\n",
              "      <td id=\"T_c2dc0_row24_col0\" class=\"data row24 col0\" >GGA</td>\n",
              "      <td id=\"T_c2dc0_row24_col1\" class=\"data row24 col1\" >282</td>\n",
              "    </tr>\n",
              "    <tr>\n",
              "      <th id=\"T_c2dc0_level0_row25\" class=\"row_heading level0 row25\" >23</th>\n",
              "      <td id=\"T_c2dc0_row25_col0\" class=\"data row25 col0\" >CTC</td>\n",
              "      <td id=\"T_c2dc0_row25_col1\" class=\"data row25 col1\" >269</td>\n",
              "    </tr>\n",
              "    <tr>\n",
              "      <th id=\"T_c2dc0_level0_row26\" class=\"row_heading level0 row26\" >27</th>\n",
              "      <td id=\"T_c2dc0_row26_col0\" class=\"data row26 col0\" >GCC</td>\n",
              "      <td id=\"T_c2dc0_row26_col1\" class=\"data row26 col1\" >187</td>\n",
              "    </tr>\n",
              "    <tr>\n",
              "      <th id=\"T_c2dc0_level0_row27\" class=\"row_heading level0 row27\" >6</th>\n",
              "      <td id=\"T_c2dc0_row27_col0\" class=\"data row27 col0\" >ACG</td>\n",
              "      <td id=\"T_c2dc0_row27_col1\" class=\"data row27 col1\" >164</td>\n",
              "    </tr>\n",
              "    <tr>\n",
              "      <th id=\"T_c2dc0_level0_row28\" class=\"row_heading level0 row28\" >18</th>\n",
              "      <td id=\"T_c2dc0_row28_col0\" class=\"data row28 col0\" >CCC</td>\n",
              "      <td id=\"T_c2dc0_row28_col1\" class=\"data row28 col1\" >102</td>\n",
              "    </tr>\n",
              "    <tr>\n",
              "      <th id=\"T_c2dc0_level0_row29\" class=\"row_heading level0 row29\" >20</th>\n",
              "      <td id=\"T_c2dc0_row29_col0\" class=\"data row29 col0\" >CGA</td>\n",
              "      <td id=\"T_c2dc0_row29_col1\" class=\"data row29 col1\" >95</td>\n",
              "    </tr>\n",
              "    <tr>\n",
              "      <th id=\"T_c2dc0_level0_row30\" class=\"row_heading level0 row30\" >21</th>\n",
              "      <td id=\"T_c2dc0_row30_col0\" class=\"data row30 col0\" >CGC</td>\n",
              "      <td id=\"T_c2dc0_row30_col1\" class=\"data row30 col1\" >94</td>\n",
              "    </tr>\n",
              "    <tr>\n",
              "      <th id=\"T_c2dc0_level0_row31\" class=\"row_heading level0 row31\" >19</th>\n",
              "      <td id=\"T_c2dc0_row31_col0\" class=\"data row31 col0\" >CCG</td>\n",
              "      <td id=\"T_c2dc0_row31_col1\" class=\"data row31 col1\" >74</td>\n",
              "    </tr>\n",
              "  </tbody>\n",
              "</table>\n"
            ]
          },
          "metadata": {},
          "execution_count": 75
        }
      ]
    },
    {
      "cell_type": "markdown",
      "source": [
        "# **Another Plot for Counts of Trimers**"
      ],
      "metadata": {
        "id": "ihPZlnmYhFbq"
      }
    },
    {
      "cell_type": "code",
      "source": [
        "sns.set(rc={'figure.figsize':(16,8)})\n",
        "sns.barplot(x=\"count\", y=\"trimer\", data=tri)"
      ],
      "metadata": {
        "colab": {
          "base_uri": "https://localhost:8080/",
          "height": 520
        },
        "id": "yFKd8gArdwTv",
        "outputId": "7e36bd1a-11fb-4899-c97b-e615d28fb170"
      },
      "execution_count": 81,
      "outputs": [
        {
          "output_type": "execute_result",
          "data": {
            "text/plain": [
              "<Axes: xlabel='count', ylabel='trimer'>"
            ]
          },
          "metadata": {},
          "execution_count": 81
        },
        {
          "output_type": "display_data",
          "data": {
            "text/plain": [
              "<Figure size 1152x576 with 1 Axes>"
            ],
            "image/png": "[encoded data removed]"
          },
          "metadata": {}
        }
      ]
    }
  ]
}